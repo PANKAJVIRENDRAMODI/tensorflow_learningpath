{
  "nbformat": 4,
  "nbformat_minor": 0,
  "metadata": {
    "colab": {
      "name": "tensorflow 2.0.ipynb",
      "provenance": [],
      "authorship_tag": "ABX9TyPgUbpxdC+HcupeHAHY5zUZ",
      "include_colab_link": true
    },
    "kernelspec": {
      "name": "python3",
      "display_name": "Python 3"
    },
    "accelerator": "GPU"
  },
  "cells": [
    {
      "cell_type": "markdown",
      "metadata": {
        "id": "view-in-github",
        "colab_type": "text"
      },
      "source": [
        "<a href=\"https://colab.research.google.com/github/PANKAJVIRENDRAMODI/tensorflow_learningpath/blob/main/tensorflow_2_0.ipynb\" target=\"_parent\"><img src=\"https://colab.research.google.com/assets/colab-badge.svg\" alt=\"Open In Colab\"/></a>"
      ]
    },
    {
      "cell_type": "code",
      "metadata": {
        "id": "Fm4qOSfLYhps"
      },
      "source": [
        "import tensorflow as tf"
      ],
      "execution_count": 2,
      "outputs": []
    },
    {
      "cell_type": "code",
      "metadata": {
        "colab": {
          "base_uri": "https://localhost:8080/",
          "height": 35
        },
        "id": "PosRai_weW3F",
        "outputId": "c408208a-d85d-4b4e-cb54-5abaa6ec421e"
      },
      "source": [
        "tf.__version__"
      ],
      "execution_count": 3,
      "outputs": [
        {
          "output_type": "execute_result",
          "data": {
            "application/vnd.google.colaboratory.intrinsic+json": {
              "type": "string"
            },
            "text/plain": [
              "'2.3.0'"
            ]
          },
          "metadata": {
            "tags": []
          },
          "execution_count": 3
        }
      ]
    },
    {
      "cell_type": "code",
      "metadata": {
        "colab": {
          "base_uri": "https://localhost:8080/"
        },
        "id": "keBndPYgeaSi",
        "outputId": "bc7cb4ac-f559-4ce2-995b-bc5477439091"
      },
      "source": [
        "!nvidia-smi"
      ],
      "execution_count": 4,
      "outputs": [
        {
          "output_type": "stream",
          "text": [
            "Mon Nov 30 17:42:25 2020       \n",
            "+-----------------------------------------------------------------------------+\n",
            "| NVIDIA-SMI 455.38       Driver Version: 418.67       CUDA Version: 10.1     |\n",
            "|-------------------------------+----------------------+----------------------+\n",
            "| GPU  Name        Persistence-M| Bus-Id        Disp.A | Volatile Uncorr. ECC |\n",
            "| Fan  Temp  Perf  Pwr:Usage/Cap|         Memory-Usage | GPU-Util  Compute M. |\n",
            "|                               |                      |               MIG M. |\n",
            "|===============================+======================+======================|\n",
            "|   0  Tesla K80           Off  | 00000000:00:04.0 Off |                    0 |\n",
            "| N/A   73C    P8    33W / 149W |      0MiB / 11441MiB |      0%      Default |\n",
            "|                               |                      |                 ERR! |\n",
            "+-------------------------------+----------------------+----------------------+\n",
            "                                                                               \n",
            "+-----------------------------------------------------------------------------+\n",
            "| Processes:                                                                  |\n",
            "|  GPU   GI   CI        PID   Type   Process name                  GPU Memory |\n",
            "|        ID   ID                                                   Usage      |\n",
            "|=============================================================================|\n",
            "|  No running processes found                                                 |\n",
            "+-----------------------------------------------------------------------------+\n"
          ],
          "name": "stdout"
        }
      ]
    },
    {
      "cell_type": "code",
      "metadata": {
        "colab": {
          "base_uri": "https://localhost:8080/"
        },
        "id": "pJg_fgi9kgKU",
        "outputId": "7f6137b4-d489-4464-f9e8-d5779336d6c8"
      },
      "source": [
        "iprove = tf.constant(1,dtype=tf.int64)\n",
        "iprove"
      ],
      "execution_count": 5,
      "outputs": [
        {
          "output_type": "execute_result",
          "data": {
            "text/plain": [
              "<tf.Tensor: shape=(), dtype=int64, numpy=1>"
            ]
          },
          "metadata": {
            "tags": []
          },
          "execution_count": 5
        }
      ]
    },
    {
      "cell_type": "code",
      "metadata": {
        "colab": {
          "base_uri": "https://localhost:8080/"
        },
        "id": "GAVrQDh1k64J",
        "outputId": "05244e5e-fb6a-4bcc-aff5-a62130239783"
      },
      "source": [
        "iprovee = tf.constant([[4,2],[5,6]])\n",
        "print(iprovee)"
      ],
      "execution_count": 6,
      "outputs": [
        {
          "output_type": "stream",
          "text": [
            "tf.Tensor(\n",
            "[[4 2]\n",
            " [5 6]], shape=(2, 2), dtype=int32)\n"
          ],
          "name": "stdout"
        }
      ]
    },
    {
      "cell_type": "code",
      "metadata": {
        "colab": {
          "base_uri": "https://localhost:8080/"
        },
        "id": "-d6lPixKlPQT",
        "outputId": "900e82e4-c964-4281-8431-af24f411ec4d"
      },
      "source": [
        "iprovee.numpy()"
      ],
      "execution_count": 7,
      "outputs": [
        {
          "output_type": "execute_result",
          "data": {
            "text/plain": [
              "array([[4, 2],\n",
              "       [5, 6]], dtype=int32)"
            ]
          },
          "metadata": {
            "tags": []
          },
          "execution_count": 7
        }
      ]
    },
    {
      "cell_type": "code",
      "metadata": {
        "colab": {
          "base_uri": "https://localhost:8080/"
        },
        "id": "B2i0WuP5lUcU",
        "outputId": "63f7cef1-b69b-40f4-deba-ddf97695f6b7"
      },
      "source": [
        "print(\"shape\",iprovee.shape)"
      ],
      "execution_count": 8,
      "outputs": [
        {
          "output_type": "stream",
          "text": [
            "shape (2, 2)\n"
          ],
          "name": "stdout"
        }
      ]
    },
    {
      "cell_type": "code",
      "metadata": {
        "colab": {
          "base_uri": "https://localhost:8080/"
        },
        "id": "AFKjhOByllZu",
        "outputId": "04468ee6-9eeb-49ca-807c-03de73a78cde"
      },
      "source": [
        "print(tf.ones(shape=(5,3)))"
      ],
      "execution_count": 9,
      "outputs": [
        {
          "output_type": "stream",
          "text": [
            "tf.Tensor(\n",
            "[[1. 1. 1.]\n",
            " [1. 1. 1.]\n",
            " [1. 1. 1.]\n",
            " [1. 1. 1.]\n",
            " [1. 1. 1.]], shape=(5, 3), dtype=float32)\n"
          ],
          "name": "stdout"
        }
      ]
    },
    {
      "cell_type": "code",
      "metadata": {
        "colab": {
          "base_uri": "https://localhost:8080/"
        },
        "id": "dti5SluklzTj",
        "outputId": "9dffb2d9-576a-4c09-c638-59d00140fcdb"
      },
      "source": [
        "print(tf.zeros(shape=(3,3)))"
      ],
      "execution_count": 10,
      "outputs": [
        {
          "output_type": "stream",
          "text": [
            "tf.Tensor(\n",
            "[[0. 0. 0.]\n",
            " [0. 0. 0.]\n",
            " [0. 0. 0.]], shape=(3, 3), dtype=float32)\n"
          ],
          "name": "stdout"
        }
      ]
    },
    {
      "cell_type": "code",
      "metadata": {
        "colab": {
          "base_uri": "https://localhost:8080/"
        },
        "id": "JITH1iGHl5pM",
        "outputId": "8a41db74-afb8-4b0f-90ac-16cbc37460e4"
      },
      "source": [
        "const1 = tf.constant([[2,3,4],[4,5,6]]);tf\n",
        "const2 = tf.constant([[6,8,1],[2,5,9]]);\n",
        "result = tf.add(const1,const2)\n",
        "print(result)"
      ],
      "execution_count": 11,
      "outputs": [
        {
          "output_type": "stream",
          "text": [
            "tf.Tensor(\n",
            "[[ 8 11  5]\n",
            " [ 6 10 15]], shape=(2, 3), dtype=int32)\n"
          ],
          "name": "stdout"
        }
      ]
    },
    {
      "cell_type": "code",
      "metadata": {
        "colab": {
          "base_uri": "https://localhost:8080/"
        },
        "id": "2Clwxa8am71z",
        "outputId": "54db64d5-7abe-4b4e-8f0c-cde77fa13b59"
      },
      "source": [
        "tf.random.normal(shape=(2,3),mean=0,stddev=1.0)"
      ],
      "execution_count": 12,
      "outputs": [
        {
          "output_type": "execute_result",
          "data": {
            "text/plain": [
              "<tf.Tensor: shape=(2, 3), dtype=float32, numpy=\n",
              "array([[-0.58202946,  0.0129263 ,  0.53165835],\n",
              "       [-2.219619  ,  0.5000129 , -1.1066787 ]], dtype=float32)>"
            ]
          },
          "metadata": {
            "tags": []
          },
          "execution_count": 12
        }
      ]
    },
    {
      "cell_type": "code",
      "metadata": {
        "colab": {
          "base_uri": "https://localhost:8080/"
        },
        "id": "ATXiFQVtnNuO",
        "outputId": "9b5b3077-b421-403b-af80-cbbd842d7bb0"
      },
      "source": [
        "tf.random.uniform(shape=(8,8,2),minval=0,maxval=10,dtype=tf.int32)"
      ],
      "execution_count": 13,
      "outputs": [
        {
          "output_type": "execute_result",
          "data": {
            "text/plain": [
              "<tf.Tensor: shape=(8, 8, 2), dtype=int32, numpy=\n",
              "array([[[3, 3],\n",
              "        [5, 8],\n",
              "        [6, 4],\n",
              "        [7, 5],\n",
              "        [3, 7],\n",
              "        [0, 3],\n",
              "        [1, 0],\n",
              "        [5, 6]],\n",
              "\n",
              "       [[6, 9],\n",
              "        [2, 5],\n",
              "        [9, 8],\n",
              "        [2, 6],\n",
              "        [0, 1],\n",
              "        [2, 6],\n",
              "        [6, 6],\n",
              "        [4, 5]],\n",
              "\n",
              "       [[1, 0],\n",
              "        [6, 4],\n",
              "        [3, 5],\n",
              "        [3, 0],\n",
              "        [6, 1],\n",
              "        [6, 5],\n",
              "        [7, 5],\n",
              "        [9, 0]],\n",
              "\n",
              "       [[7, 4],\n",
              "        [6, 8],\n",
              "        [8, 2],\n",
              "        [1, 8],\n",
              "        [7, 5],\n",
              "        [0, 5],\n",
              "        [9, 7],\n",
              "        [0, 4]],\n",
              "\n",
              "       [[5, 6],\n",
              "        [6, 3],\n",
              "        [9, 3],\n",
              "        [5, 6],\n",
              "        [9, 0],\n",
              "        [7, 2],\n",
              "        [1, 0],\n",
              "        [1, 3]],\n",
              "\n",
              "       [[6, 5],\n",
              "        [0, 0],\n",
              "        [6, 4],\n",
              "        [0, 8],\n",
              "        [7, 4],\n",
              "        [8, 5],\n",
              "        [7, 5],\n",
              "        [9, 2]],\n",
              "\n",
              "       [[9, 5],\n",
              "        [1, 4],\n",
              "        [3, 9],\n",
              "        [3, 9],\n",
              "        [6, 0],\n",
              "        [1, 1],\n",
              "        [1, 4],\n",
              "        [4, 6]],\n",
              "\n",
              "       [[9, 6],\n",
              "        [1, 5],\n",
              "        [0, 4],\n",
              "        [9, 6],\n",
              "        [2, 0],\n",
              "        [7, 2],\n",
              "        [2, 6],\n",
              "        [5, 9]]], dtype=int32)>"
            ]
          },
          "metadata": {
            "tags": []
          },
          "execution_count": 13
        }
      ]
    },
    {
      "cell_type": "code",
      "metadata": {
        "colab": {
          "base_uri": "https://localhost:8080/"
        },
        "id": "bcBKQmBMn9x0",
        "outputId": "9e00d883-190c-4d56-bbca-a68ec1c0f6bd"
      },
      "source": [
        "var1 = tf.Variable(42)\n",
        "var2 = tf.Variable([[[2,3,4],[3,4,5]],[[3,4,2],[2,3,1]]])\n",
        "var3 = 43\n",
        "var1,var2,var3"
      ],
      "execution_count": 14,
      "outputs": [
        {
          "output_type": "execute_result",
          "data": {
            "text/plain": [
              "(<tf.Variable 'Variable:0' shape=() dtype=int32, numpy=42>,\n",
              " <tf.Variable 'Variable:0' shape=(2, 2, 3) dtype=int32, numpy=\n",
              " array([[[2, 3, 4],\n",
              "         [3, 4, 5]],\n",
              " \n",
              "        [[3, 4, 2],\n",
              "         [2, 3, 1]]], dtype=int32)>,\n",
              " 43)"
            ]
          },
          "metadata": {
            "tags": []
          },
          "execution_count": 14
        }
      ]
    },
    {
      "cell_type": "code",
      "metadata": {
        "colab": {
          "base_uri": "https://localhost:8080/"
        },
        "id": "2BBNWV4po7Ym",
        "outputId": "b6040db6-e0bc-41cc-f3c0-09ebfc14cd25"
      },
      "source": [
        "var_reassign = tf.Variable(56.)\n",
        "var_reassign"
      ],
      "execution_count": 15,
      "outputs": [
        {
          "output_type": "execute_result",
          "data": {
            "text/plain": [
              "<tf.Variable 'Variable:0' shape=() dtype=float32, numpy=56.0>"
            ]
          },
          "metadata": {
            "tags": []
          },
          "execution_count": 15
        }
      ]
    },
    {
      "cell_type": "code",
      "metadata": {
        "colab": {
          "base_uri": "https://localhost:8080/"
        },
        "id": "jkJjut1DrwOO",
        "outputId": "7f609ad3-6e67-4d04-ded9-9a033e7eb3ab"
      },
      "source": [
        "initial_vals = tf.random.normal(shape=(2,3))\n",
        "a = tf.Variable(initial_vals) #constant doesn't work for reassigning\n",
        "print(a)"
      ],
      "execution_count": 16,
      "outputs": [
        {
          "output_type": "stream",
          "text": [
            "<tf.Variable 'Variable:0' shape=(2, 3) dtype=float32, numpy=\n",
            "array([[ 0.82284695,  1.7697489 ,  0.12809676],\n",
            "       [-1.0408072 ,  1.0875716 , -0.41657472]], dtype=float32)>\n"
          ],
          "name": "stdout"
        }
      ]
    },
    {
      "cell_type": "code",
      "metadata": {
        "colab": {
          "base_uri": "https://localhost:8080/"
        },
        "id": "Qq_Wrh2rseWy",
        "outputId": "41bc1f32-afb2-430f-9cd4-71657f472fc7"
      },
      "source": [
        "tensor = tf.Variable([[[2,3,4],[3,4,5]],[[3,4,2],[2,3,1]]])\n",
        "print(tensor.shape)\n",
        "tensor"
      ],
      "execution_count": 17,
      "outputs": [
        {
          "output_type": "stream",
          "text": [
            "(2, 2, 3)\n"
          ],
          "name": "stdout"
        },
        {
          "output_type": "execute_result",
          "data": {
            "text/plain": [
              "<tf.Variable 'Variable:0' shape=(2, 2, 3) dtype=int32, numpy=\n",
              "array([[[2, 3, 4],\n",
              "        [3, 4, 5]],\n",
              "\n",
              "       [[3, 4, 2],\n",
              "        [2, 3, 1]]], dtype=int32)>"
            ]
          },
          "metadata": {
            "tags": []
          },
          "execution_count": 17
        }
      ]
    },
    {
      "cell_type": "code",
      "metadata": {
        "colab": {
          "base_uri": "https://localhost:8080/"
        },
        "id": "Zkifdo4857Mu",
        "outputId": "3987815d-6c59-44a6-8108-9332bac46fcc"
      },
      "source": [
        "tensor1 = tf.reshape(tensor,[2,6])\n",
        "tensor1"
      ],
      "execution_count": 18,
      "outputs": [
        {
          "output_type": "execute_result",
          "data": {
            "text/plain": [
              "<tf.Tensor: shape=(2, 6), dtype=int32, numpy=\n",
              "array([[2, 3, 4, 3, 4, 5],\n",
              "       [3, 4, 2, 2, 3, 1]], dtype=int32)>"
            ]
          },
          "metadata": {
            "tags": []
          },
          "execution_count": 18
        }
      ]
    },
    {
      "cell_type": "code",
      "metadata": {
        "colab": {
          "base_uri": "https://localhost:8080/"
        },
        "id": "2m7jArNn6o-9",
        "outputId": "5d8ffd27-8882-42c7-9f50-ab8547ac6ce8"
      },
      "source": [
        "tensor2 = tf.reshape(tensor,[2,6,1,1,1])\n",
        "tensor3 = tf.reshape(tensor,[2,3,2,1,1,1])\n",
        "tensor3"
      ],
      "execution_count": 19,
      "outputs": [
        {
          "output_type": "execute_result",
          "data": {
            "text/plain": [
              "<tf.Tensor: shape=(2, 3, 2, 1, 1, 1), dtype=int32, numpy=\n",
              "array([[[[[[2]]],\n",
              "\n",
              "\n",
              "         [[[3]]]],\n",
              "\n",
              "\n",
              "\n",
              "        [[[[4]]],\n",
              "\n",
              "\n",
              "         [[[3]]]],\n",
              "\n",
              "\n",
              "\n",
              "        [[[[4]]],\n",
              "\n",
              "\n",
              "         [[[5]]]]],\n",
              "\n",
              "\n",
              "\n",
              "\n",
              "       [[[[[3]]],\n",
              "\n",
              "\n",
              "         [[[4]]]],\n",
              "\n",
              "\n",
              "\n",
              "        [[[[2]]],\n",
              "\n",
              "\n",
              "         [[[2]]]],\n",
              "\n",
              "\n",
              "\n",
              "        [[[[3]]],\n",
              "\n",
              "\n",
              "         [[[1]]]]]], dtype=int32)>"
            ]
          },
          "metadata": {
            "tags": []
          },
          "execution_count": 19
        }
      ]
    },
    {
      "cell_type": "code",
      "metadata": {
        "colab": {
          "base_uri": "https://localhost:8080/"
        },
        "id": "8AM0LDzI7Dst",
        "outputId": "bc3a0229-fa74-4629-8f04-a3028d661a99"
      },
      "source": [
        "tf.rank(tensor)"
      ],
      "execution_count": 20,
      "outputs": [
        {
          "output_type": "execute_result",
          "data": {
            "text/plain": [
              "<tf.Tensor: shape=(), dtype=int32, numpy=3>"
            ]
          },
          "metadata": {
            "tags": []
          },
          "execution_count": 20
        }
      ]
    },
    {
      "cell_type": "code",
      "metadata": {
        "colab": {
          "base_uri": "https://localhost:8080/"
        },
        "id": "qtMM-Vmh7ML5",
        "outputId": "e2ba0494-3d8e-4101-9d8c-e0e5aa629268"
      },
      "source": [
        "tensor"
      ],
      "execution_count": 21,
      "outputs": [
        {
          "output_type": "execute_result",
          "data": {
            "text/plain": [
              "<tf.Variable 'Variable:0' shape=(2, 2, 3) dtype=int32, numpy=\n",
              "array([[[2, 3, 4],\n",
              "        [3, 4, 5]],\n",
              "\n",
              "       [[3, 4, 2],\n",
              "        [2, 3, 1]]], dtype=int32)>"
            ]
          },
          "metadata": {
            "tags": []
          },
          "execution_count": 21
        }
      ]
    },
    {
      "cell_type": "code",
      "metadata": {
        "colab": {
          "base_uri": "https://localhost:8080/"
        },
        "id": "6N5IH7U78id9",
        "outputId": "16f945d4-baa3-4ffa-bc2b-e62a1a31e522"
      },
      "source": [
        "tensor[1]"
      ],
      "execution_count": 22,
      "outputs": [
        {
          "output_type": "execute_result",
          "data": {
            "text/plain": [
              "<tf.Tensor: shape=(2, 3), dtype=int32, numpy=\n",
              "array([[3, 4, 2],\n",
              "       [2, 3, 1]], dtype=int32)>"
            ]
          },
          "metadata": {
            "tags": []
          },
          "execution_count": 22
        }
      ]
    },
    {
      "cell_type": "code",
      "metadata": {
        "colab": {
          "base_uri": "https://localhost:8080/"
        },
        "id": "_lNbT8Pi82KV",
        "outputId": "a5a4ee1d-5014-4d02-d915-5c35ce266aef"
      },
      "source": [
        "tensor[1][0]"
      ],
      "execution_count": 23,
      "outputs": [
        {
          "output_type": "execute_result",
          "data": {
            "text/plain": [
              "<tf.Tensor: shape=(3,), dtype=int32, numpy=array([3, 4, 2], dtype=int32)>"
            ]
          },
          "metadata": {
            "tags": []
          },
          "execution_count": 23
        }
      ]
    },
    {
      "cell_type": "code",
      "metadata": {
        "colab": {
          "base_uri": "https://localhost:8080/"
        },
        "id": "Tdf2K1FZ8-wt",
        "outputId": "874add06-48ad-4ee1-c0fe-781bc457ce6a"
      },
      "source": [
        "tensor[1][0][2]"
      ],
      "execution_count": 24,
      "outputs": [
        {
          "output_type": "execute_result",
          "data": {
            "text/plain": [
              "<tf.Tensor: shape=(), dtype=int32, numpy=2>"
            ]
          },
          "metadata": {
            "tags": []
          },
          "execution_count": 24
        }
      ]
    },
    {
      "cell_type": "code",
      "metadata": {
        "colab": {
          "base_uri": "https://localhost:8080/"
        },
        "id": "Rm1pYCpP9yJ0",
        "outputId": "968a1e97-e3a7-4742-a27a-91d721c3132a"
      },
      "source": [
        "a = tf.random.normal(shape=(2,2))\n",
        "b = tf.random.normal(shape=(2,2))\n",
        "c = a + b\n",
        "d = tf.square(c)\n",
        "e = tf.exp(c)\n",
        "print(d)\n",
        "print(e)"
      ],
      "execution_count": 25,
      "outputs": [
        {
          "output_type": "stream",
          "text": [
            "tf.Tensor(\n",
            "[[1.694314   0.04596312]\n",
            " [1.2608608  0.53165674]], shape=(2, 2), dtype=float32)\n",
            "tf.Tensor(\n",
            "[[3.675386   1.2391059 ]\n",
            " [3.0736957  0.48231977]], shape=(2, 2), dtype=float32)\n"
          ],
          "name": "stdout"
        }
      ]
    },
    {
      "cell_type": "code",
      "metadata": {
        "colab": {
          "base_uri": "https://localhost:8080/"
        },
        "id": "zoOajyPZ-WFj",
        "outputId": "18dcb52a-c64a-4580-de03-e6b6e553a913"
      },
      "source": [
        "tensor*tensor"
      ],
      "execution_count": 26,
      "outputs": [
        {
          "output_type": "execute_result",
          "data": {
            "text/plain": [
              "<tf.Tensor: shape=(2, 2, 3), dtype=int32, numpy=\n",
              "array([[[ 4,  9, 16],\n",
              "        [ 9, 16, 25]],\n",
              "\n",
              "       [[ 9, 16,  4],\n",
              "        [ 4,  9,  1]]], dtype=int32)>"
            ]
          },
          "metadata": {
            "tags": []
          },
          "execution_count": 26
        }
      ]
    },
    {
      "cell_type": "code",
      "metadata": {
        "colab": {
          "base_uri": "https://localhost:8080/"
        },
        "id": "GhFwuUvw-dGJ",
        "outputId": "fa03dfc6-d9db-4d21-c4e2-1a37f5b722b2"
      },
      "source": [
        "tensormult4 = tensor*4\n",
        "tensormult4"
      ],
      "execution_count": 27,
      "outputs": [
        {
          "output_type": "execute_result",
          "data": {
            "text/plain": [
              "<tf.Tensor: shape=(2, 2, 3), dtype=int32, numpy=\n",
              "array([[[ 8, 12, 16],\n",
              "        [12, 16, 20]],\n",
              "\n",
              "       [[12, 16,  8],\n",
              "        [ 8, 12,  4]]], dtype=int32)>"
            ]
          },
          "metadata": {
            "tags": []
          },
          "execution_count": 27
        }
      ]
    },
    {
      "cell_type": "code",
      "metadata": {
        "id": "ABgyydhS-spr"
      },
      "source": [
        "matrix_u = tf.constant([[4,7,2]])\n",
        "matrix_v = tf.constant([[8,3,4]])"
      ],
      "execution_count": 28,
      "outputs": []
    },
    {
      "cell_type": "code",
      "metadata": {
        "colab": {
          "base_uri": "https://localhost:8080/"
        },
        "id": "MYuP5gqIAcdk",
        "outputId": "db56ef49-445d-46ae-f32a-0d9e7a3c08f3"
      },
      "source": [
        "tf.matmul(matrix_u,tf.transpose(a=matrix_v))"
      ],
      "execution_count": 29,
      "outputs": [
        {
          "output_type": "execute_result",
          "data": {
            "text/plain": [
              "<tf.Tensor: shape=(1, 1), dtype=int32, numpy=array([[61]], dtype=int32)>"
            ]
          },
          "metadata": {
            "tags": []
          },
          "execution_count": 29
        }
      ]
    },
    {
      "cell_type": "code",
      "metadata": {
        "colab": {
          "base_uri": "https://localhost:8080/"
        },
        "id": "ZJti77UfA0nA",
        "outputId": "17960b2b-714b-4492-c989-8503495ca3a0"
      },
      "source": [
        "tf.matmul(matrix_v,tf.transpose(matrix_u))"
      ],
      "execution_count": 30,
      "outputs": [
        {
          "output_type": "execute_result",
          "data": {
            "text/plain": [
              "<tf.Tensor: shape=(1, 1), dtype=int32, numpy=array([[61]], dtype=int32)>"
            ]
          },
          "metadata": {
            "tags": []
          },
          "execution_count": 30
        }
      ]
    },
    {
      "cell_type": "code",
      "metadata": {
        "colab": {
          "base_uri": "https://localhost:8080/"
        },
        "id": "b3Y0g8N9ArSg",
        "outputId": "55053a5c-5271-48f3-98e7-38fe281ca8d8"
      },
      "source": [
        "tf.transpose(matrix_v)"
      ],
      "execution_count": 31,
      "outputs": [
        {
          "output_type": "execute_result",
          "data": {
            "text/plain": [
              "<tf.Tensor: shape=(3, 1), dtype=int32, numpy=\n",
              "array([[8],\n",
              "       [3],\n",
              "       [4]], dtype=int32)>"
            ]
          },
          "metadata": {
            "tags": []
          },
          "execution_count": 31
        }
      ]
    },
    {
      "cell_type": "code",
      "metadata": {
        "colab": {
          "base_uri": "https://localhost:8080/"
        },
        "id": "YtxXjaiUCS8T",
        "outputId": "87926cb6-0944-4d6a-a021-8b39fce8aba7"
      },
      "source": [
        "varx = [2,3,4,5,6]\n",
        "vary = 9\n",
        "varz = tf.math.squared_difference(varx,vary)\n",
        "varz"
      ],
      "execution_count": 32,
      "outputs": [
        {
          "output_type": "execute_result",
          "data": {
            "text/plain": [
              "<tf.Tensor: shape=(5,), dtype=int32, numpy=array([49, 36, 25, 16,  9], dtype=int32)>"
            ]
          },
          "metadata": {
            "tags": []
          },
          "execution_count": 32
        }
      ]
    },
    {
      "cell_type": "code",
      "metadata": {
        "colab": {
          "base_uri": "https://localhost:8080/"
        },
        "id": "DOi4NqLyDPb0",
        "outputId": "157e94e6-5d83-4827-febf-6702e7629d90"
      },
      "source": [
        "variable1 = tf.Variable([[5,6,7,8],[3,2,7,5]])\n",
        "checkpoint = tf.train.Checkpoint(var=variable1)\n",
        "savepath = checkpoint.save('/vars')\n",
        "variable1.assign([[0,0,0,0],[0,0,0,0]])\n",
        "variable1\n",
        "checkpoint.restore(savepath)\n",
        "print(variable1)"
      ],
      "execution_count": 33,
      "outputs": [
        {
          "output_type": "stream",
          "text": [
            "<tf.Variable 'Variable:0' shape=(2, 4) dtype=int32, numpy=\n",
            "array([[5, 6, 7, 8],\n",
            "       [3, 2, 7, 5]], dtype=int32)>\n"
          ],
          "name": "stdout"
        }
      ]
    },
    {
      "cell_type": "code",
      "metadata": {
        "id": "lEbSSbDtP7W9"
      },
      "source": [
        ""
      ],
      "execution_count": null,
      "outputs": []
    }
  ]
}